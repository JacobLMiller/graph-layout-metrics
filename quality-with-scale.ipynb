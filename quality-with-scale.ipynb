{
 "cells": [
  {
   "cell_type": "markdown",
   "metadata": {},
   "source": [
    "# Evaluating scale sensitivity of stress"
   ]
  },
  {
   "cell_type": "code",
   "execution_count": 8,
   "metadata": {},
   "outputs": [],
   "source": [
    "## custom\n",
    "from utils import utils, vis\n",
    "from utils import poly_point_isect as bo   ##bentley-ottmann sweep line\n",
    "import criteria as C\n",
    "import quality as Q\n",
    "import gd2\n",
    "import utils.weight_schedule as ws\n",
    "\n",
    "## third party\n",
    "import networkx as nx\n",
    "\n",
    "from PIL import Image\n",
    "from natsort import natsorted\n",
    "\n",
    "\n",
    "## sys\n",
    "from collections import defaultdict\n",
    "import random\n",
    "import time\n",
    "from glob import glob\n",
    "import math\n",
    "import os\n",
    "from pathlib import Path\n",
    "import itertools\n",
    "import pickle as pkl\n",
    "\n",
    "## numeric\n",
    "import numpy as np\n",
    "import scipy.io as io\n",
    "import torch\n",
    "from torch import nn, optim\n",
    "import torch.nn.functional as F\n",
    "\n",
    "\n",
    "## vis\n",
    "import matplotlib.pyplot as plt\n",
    "import matplotlib.animation as animation\n",
    "from matplotlib.gridspec import GridSpec\n",
    "from matplotlib.colors import LinearSegmentedColormap\n",
    "from mpl_toolkits import mplot3d\n",
    "from matplotlib import collections  as mc\n",
    "from mpl_toolkits.mplot3d.art3d import Line3DCollection\n",
    "\n",
    "## notebook\n",
    "from IPython import display\n",
    "from IPython.display import clear_output\n",
    "# from tqdm.notebook import tqdm\n",
    "from tqdm import tqdm\n",
    "\n",
    "device = torch.device('cuda') if torch.cuda.is_available() else torch.device('cpu')\n",
    "device = 'cpu'\n",
    "plt.style.use('ggplot')\n",
    "# plt.style.use('seaborn-colorblind')\n",
    "\n",
    "from utils.weight_schedule import SmoothSteps, Concat, SmoothStepSchedule\n",
    "\n",
    "\n",
    "graphs = ['dodecahedron', 'tree_2_6', 'grid_12_24', 'spx_teaser', '494_bus', 'grid1', 'dwt_307', 'dwt_1005']\n",
    "\n",
    "methods = [\n",
    "    ('neato', 'neato'),\n",
    "    ('sfdp', 'sfdp'),\n",
    "    \n",
    "    ('GD2 (ST)', 'stress'),\n",
    "    ('GD2 (NP)', 'neighborhood_preservation'),\n",
    "    \n",
    "    ('GD2 (ST+IL)', 'stress+ideal_edge_length'),\n",
    "    ('GD2 (ST+NP)', 'stress+neighborhood_preservation'),\n",
    "    ('GD2 (ST+CR)', 'stress+crossings'),\n",
    "    ('GD2 (ST+CAM)', 'stress+crossing_angle_maximization'),\n",
    "    ('GD2 (ST+AR)', 'stress+aspect_ratio'),\n",
    "    ('GD2 (ST+VR)',     'stress+vertex_resolution'),\n",
    "    ('GD2 (ST+GB)',     'stress+gabriel'),\n",
    "    \n",
    "    ('GD2 (ST+IL+ANR)', 'stress+ideal_edge_length+angular_resolution'),\n",
    "    ('GD2 (IL+NP+VR)',  'ideal_edge_length+neighborhood_preservation+vertex_resolution'),\n",
    "    \n",
    "]\n"
   ]
  },
  {
   "cell_type": "markdown",
   "metadata": {},
   "source": [
    "## Compute layout quality, uncomment to recompute"
   ]
  },
  {
   "cell_type": "code",
   "execution_count": 3,
   "metadata": {},
   "outputs": [],
   "source": [
    "import pandas as pd\n",
    "\n",
    "import importlib\n",
    "importlib.reload(C)\n",
    "importlib.reload(Q)\n",
    "importlib.reload(utils)\n",
    "importlib.reload(vis)\n",
    "import gd2\n",
    "importlib.reload(gd2)\n",
    "from gd2 import GD2"
   ]
  },
  {
   "cell_type": "code",
   "execution_count": 9,
   "metadata": {},
   "outputs": [
    {
     "name": "stderr",
     "output_type": "stream",
     "text": [
      " 83%|████████▎ | 86/104 [01:16<00:09,  1.88it/s]"
     ]
    }
   ],
   "source": [
    "# %%time\n",
    "\n",
    "criteria_all = [\n",
    "    'stress',\n",
    "    # 'ideal_edge_length',\n",
    "    # 'neighborhood_preservation',\n",
    "    # 'crossings',\n",
    "    # 'crossing_angle_maximization',\n",
    "    # 'aspect_ratio',\n",
    "    # 'angular_resolution',\n",
    "    # 'vertex_resolution',\n",
    "    # 'gabriel',\n",
    "]\n",
    "\n",
    "quality_tables = {c:[\n",
    "    [utils.criterion_to_title(c)],\n",
    "    ['', *[g.replace('_', '-') for g in graphs]], \n",
    "    *[[ms[0]] for ms in methods]] \n",
    "    for c in criteria_all\n",
    "}\n",
    "\n",
    "for (i, (method_short, method)), (j,graph) in tqdm(list(itertools.product(enumerate(methods), enumerate(graphs)))):\n",
    "    \n",
    "    fn = f'./layouts/{graph}-{method}.pkl'\n",
    "    with open(fn, 'rb') as f:\n",
    "        result_dict = pkl.load(f)\n",
    "    G = result_dict.get('G')\n",
    "    pos_G = result_dict.get('pos_G')\n",
    "    gd = GD2(G)\n",
    "    pos = torch.tensor([pos_G[gd.i2k[i]] for i in range(len(G))])\n",
    "    \n",
    "    ## TODO give 'full advantange' to neato and sfdp\n",
    "    ## on stress and ideal_edge_length\n",
    "    if method in {'neato', 'sfdp'}:\n",
    "        qualities = gd.evaluate(pos, qualities=criteria_all, mode='best_scale')\n",
    "#         print(qualities['stress'], qualities['ideal_edge_length'])\n",
    "    else:\n",
    "        qualities = gd.evaluate(pos, qualities=criteria_all, mode='original')\n",
    "    for c,q in qualities.items():\n",
    "#         quality_tables[c][i+2].append(float(f'{q:.2f}'))\n",
    "        quality_tables[c][i+2].append(q)\n"
   ]
  },
  {
   "cell_type": "code",
   "execution_count": 16,
   "metadata": {},
   "outputs": [
    {
     "name": "stderr",
     "output_type": "stream",
     "text": [
      "  1%|          | 1/104 [00:00<00:18,  5.60it/s]"
     ]
    },
    {
     "name": "stdout",
     "output_type": "stream",
     "text": [
      "neato dodecahedron\n",
      "neato tree_2_6\n",
      "neato grid_12_24\n"
     ]
    },
    {
     "name": "stderr",
     "output_type": "stream",
     "text": [
      "  3%|▎         | 3/104 [00:00<00:08, 11.76it/s]"
     ]
    },
    {
     "name": "stdout",
     "output_type": "stream",
     "text": [
      "neato spx_teaser\n",
      "neato 494_bus\n"
     ]
    },
    {
     "name": "stderr",
     "output_type": "stream",
     "text": [
      "  5%|▍         | 5/104 [00:00<00:10,  9.57it/s]"
     ]
    },
    {
     "name": "stdout",
     "output_type": "stream",
     "text": [
      "neato grid1\n",
      "neato dwt_307\n"
     ]
    },
    {
     "name": "stderr",
     "output_type": "stream",
     "text": [
      "  7%|▋         | 7/104 [00:00<00:13,  7.09it/s]"
     ]
    },
    {
     "name": "stdout",
     "output_type": "stream",
     "text": [
      "neato dwt_1005\n"
     ]
    },
    {
     "name": "stderr",
     "output_type": "stream",
     "text": [
      "  9%|▊         | 9/104 [00:07<02:01,  1.28s/it]"
     ]
    },
    {
     "name": "stdout",
     "output_type": "stream",
     "text": [
      "sfdp dodecahedron\n",
      "sfdp tree_2_6\n",
      "sfdp grid_12_24\n"
     ]
    },
    {
     "name": "stderr",
     "output_type": "stream",
     "text": [
      " 12%|█▏        | 12/104 [00:07<00:58,  1.57it/s]"
     ]
    },
    {
     "name": "stdout",
     "output_type": "stream",
     "text": [
      "sfdp spx_teaser\n",
      "sfdp 494_bus\n"
     ]
    },
    {
     "name": "stderr",
     "output_type": "stream",
     "text": [
      " 13%|█▎        | 14/104 [00:08<00:42,  2.12it/s]"
     ]
    },
    {
     "name": "stdout",
     "output_type": "stream",
     "text": [
      "sfdp grid1\n",
      "sfdp dwt_307\n",
      "sfdp dwt_1005\n"
     ]
    },
    {
     "name": "stderr",
     "output_type": "stream",
     "text": [
      " 16%|█▋        | 17/104 [00:14<01:41,  1.17s/it]"
     ]
    },
    {
     "name": "stdout",
     "output_type": "stream",
     "text": [
      "stress dodecahedron\n",
      "stress tree_2_6\n",
      "stress grid_12_24\n"
     ]
    },
    {
     "name": "stderr",
     "output_type": "stream",
     "text": [
      " 18%|█▊        | 19/104 [00:15<01:06,  1.28it/s]"
     ]
    },
    {
     "name": "stdout",
     "output_type": "stream",
     "text": [
      "stress spx_teaser\n",
      "stress 494_bus\n"
     ]
    },
    {
     "name": "stderr",
     "output_type": "stream",
     "text": [
      " 20%|██        | 21/104 [00:15<00:46,  1.79it/s]"
     ]
    },
    {
     "name": "stdout",
     "output_type": "stream",
     "text": [
      "stress grid1\n",
      "stress dwt_307\n"
     ]
    },
    {
     "name": "stderr",
     "output_type": "stream",
     "text": [
      " 22%|██▏       | 23/104 [00:15<00:35,  2.28it/s]"
     ]
    },
    {
     "name": "stdout",
     "output_type": "stream",
     "text": [
      "stress dwt_1005\n"
     ]
    },
    {
     "name": "stderr",
     "output_type": "stream",
     "text": [
      " 24%|██▍       | 25/104 [00:22<01:41,  1.29s/it]"
     ]
    },
    {
     "name": "stdout",
     "output_type": "stream",
     "text": [
      "neighborhood_preservation dodecahedron\n",
      "neighborhood_preservation tree_2_6\n",
      "neighborhood_preservation grid_12_24\n"
     ]
    },
    {
     "name": "stderr",
     "output_type": "stream",
     "text": [
      " 27%|██▋       | 28/104 [00:22<00:52,  1.44it/s]"
     ]
    },
    {
     "name": "stdout",
     "output_type": "stream",
     "text": [
      "neighborhood_preservation spx_teaser\n",
      "neighborhood_preservation 494_bus\n"
     ]
    },
    {
     "name": "stderr",
     "output_type": "stream",
     "text": [
      " 29%|██▉       | 30/104 [00:22<00:38,  1.93it/s]"
     ]
    },
    {
     "name": "stdout",
     "output_type": "stream",
     "text": [
      "neighborhood_preservation grid1\n",
      "neighborhood_preservation dwt_307\n",
      "neighborhood_preservation dwt_1005\n"
     ]
    },
    {
     "name": "stderr",
     "output_type": "stream",
     "text": [
      " 32%|███▏      | 33/104 [00:30<01:29,  1.26s/it]"
     ]
    },
    {
     "name": "stdout",
     "output_type": "stream",
     "text": [
      "stress+ideal_edge_length dodecahedron\n",
      "stress+ideal_edge_length tree_2_6\n"
     ]
    },
    {
     "name": "stderr",
     "output_type": "stream",
     "text": [
      " 35%|███▍      | 36/104 [00:30<00:49,  1.38it/s]"
     ]
    },
    {
     "name": "stdout",
     "output_type": "stream",
     "text": [
      "stress+ideal_edge_length grid_12_24\n",
      "stress+ideal_edge_length spx_teaser\n",
      "stress+ideal_edge_length 494_bus\n"
     ]
    },
    {
     "name": "stderr",
     "output_type": "stream",
     "text": [
      " 37%|███▋      | 38/104 [00:30<00:36,  1.81it/s]"
     ]
    },
    {
     "name": "stdout",
     "output_type": "stream",
     "text": [
      "stress+ideal_edge_length grid1\n",
      "stress+ideal_edge_length dwt_307\n",
      "stress+ideal_edge_length dwt_1005\n"
     ]
    },
    {
     "name": "stderr",
     "output_type": "stream",
     "text": [
      " 39%|███▉      | 41/104 [00:37<01:16,  1.21s/it]"
     ]
    },
    {
     "name": "stdout",
     "output_type": "stream",
     "text": [
      "stress+neighborhood_preservation dodecahedron\n",
      "stress+neighborhood_preservation tree_2_6\n",
      "stress+neighborhood_preservation grid_12_24\n"
     ]
    },
    {
     "name": "stderr",
     "output_type": "stream",
     "text": [
      " 41%|████▏     | 43/104 [00:38<00:50,  1.21it/s]"
     ]
    },
    {
     "name": "stdout",
     "output_type": "stream",
     "text": [
      "stress+neighborhood_preservation spx_teaser\n",
      "stress+neighborhood_preservation 494_bus\n"
     ]
    },
    {
     "name": "stderr",
     "output_type": "stream",
     "text": [
      " 43%|████▎     | 45/104 [00:38<00:35,  1.67it/s]"
     ]
    },
    {
     "name": "stdout",
     "output_type": "stream",
     "text": [
      "stress+neighborhood_preservation grid1\n",
      "stress+neighborhood_preservation dwt_307\n"
     ]
    },
    {
     "name": "stderr",
     "output_type": "stream",
     "text": [
      " 45%|████▌     | 47/104 [00:38<00:27,  2.11it/s]"
     ]
    },
    {
     "name": "stdout",
     "output_type": "stream",
     "text": [
      "stress+neighborhood_preservation dwt_1005\n"
     ]
    },
    {
     "name": "stderr",
     "output_type": "stream",
     "text": [
      " 47%|████▋     | 49/104 [00:45<01:10,  1.29s/it]"
     ]
    },
    {
     "name": "stdout",
     "output_type": "stream",
     "text": [
      "stress+crossings dodecahedron\n",
      "stress+crossings tree_2_6\n"
     ]
    },
    {
     "name": "stderr",
     "output_type": "stream",
     "text": [
      " 49%|████▉     | 51/104 [00:45<00:43,  1.21it/s]"
     ]
    },
    {
     "name": "stdout",
     "output_type": "stream",
     "text": [
      "stress+crossings grid_12_24\n",
      "stress+crossings spx_teaser\n",
      "stress+crossings 494_bus\n"
     ]
    },
    {
     "name": "stderr",
     "output_type": "stream",
     "text": [
      " 51%|█████     | 53/104 [00:45<00:29,  1.72it/s]"
     ]
    },
    {
     "name": "stdout",
     "output_type": "stream",
     "text": [
      "stress+crossings grid1\n",
      "stress+crossings dwt_307\n"
     ]
    },
    {
     "name": "stderr",
     "output_type": "stream",
     "text": [
      " 53%|█████▎    | 55/104 [00:46<00:22,  2.22it/s]"
     ]
    },
    {
     "name": "stdout",
     "output_type": "stream",
     "text": [
      "stress+crossings dwt_1005\n"
     ]
    },
    {
     "name": "stderr",
     "output_type": "stream",
     "text": [
      " 55%|█████▍    | 57/104 [00:52<00:58,  1.25s/it]"
     ]
    },
    {
     "name": "stdout",
     "output_type": "stream",
     "text": [
      "stress+crossing_angle_maximization dodecahedron\n",
      "stress+crossing_angle_maximization tree_2_6\n"
     ]
    },
    {
     "name": "stderr",
     "output_type": "stream",
     "text": [
      " 57%|█████▋    | 59/104 [00:52<00:35,  1.25it/s]"
     ]
    },
    {
     "name": "stdout",
     "output_type": "stream",
     "text": [
      "stress+crossing_angle_maximization grid_12_24\n",
      "stress+crossing_angle_maximization spx_teaser\n",
      "stress+crossing_angle_maximization 494_bus\n"
     ]
    },
    {
     "name": "stderr",
     "output_type": "stream",
     "text": [
      " 59%|█████▊    | 61/104 [00:52<00:24,  1.78it/s]"
     ]
    },
    {
     "name": "stdout",
     "output_type": "stream",
     "text": [
      "stress+crossing_angle_maximization grid1\n",
      "stress+crossing_angle_maximization dwt_307\n"
     ]
    },
    {
     "name": "stderr",
     "output_type": "stream",
     "text": [
      " 61%|██████    | 63/104 [00:53<00:20,  2.04it/s]"
     ]
    },
    {
     "name": "stdout",
     "output_type": "stream",
     "text": [
      "stress+crossing_angle_maximization dwt_1005\n"
     ]
    },
    {
     "name": "stderr",
     "output_type": "stream",
     "text": [
      " 62%|██████▏   | 64/104 [01:00<01:06,  1.67s/it]"
     ]
    },
    {
     "name": "stdout",
     "output_type": "stream",
     "text": [
      "stress+aspect_ratio dodecahedron\n"
     ]
    },
    {
     "name": "stderr",
     "output_type": "stream",
     "text": [
      " 62%|██████▎   | 65/104 [01:00<00:52,  1.35s/it]"
     ]
    },
    {
     "name": "stdout",
     "output_type": "stream",
     "text": [
      "stress+aspect_ratio tree_2_6\n",
      "stress+aspect_ratio grid_12_24\n"
     ]
    },
    {
     "name": "stderr",
     "output_type": "stream",
     "text": [
      " 64%|██████▍   | 67/104 [01:00<00:32,  1.13it/s]"
     ]
    },
    {
     "name": "stdout",
     "output_type": "stream",
     "text": [
      "stress+aspect_ratio spx_teaser\n",
      "stress+aspect_ratio 494_bus\n"
     ]
    },
    {
     "name": "stderr",
     "output_type": "stream",
     "text": [
      " 66%|██████▋   | 69/104 [01:00<00:22,  1.56it/s]"
     ]
    },
    {
     "name": "stdout",
     "output_type": "stream",
     "text": [
      "stress+aspect_ratio grid1\n",
      "stress+aspect_ratio dwt_307\n"
     ]
    },
    {
     "name": "stderr",
     "output_type": "stream",
     "text": [
      " 68%|██████▊   | 71/104 [01:01<00:17,  1.85it/s]"
     ]
    },
    {
     "name": "stdout",
     "output_type": "stream",
     "text": [
      "stress+aspect_ratio dwt_1005\n"
     ]
    },
    {
     "name": "stderr",
     "output_type": "stream",
     "text": [
      " 70%|███████   | 73/104 [01:08<00:44,  1.43s/it]"
     ]
    },
    {
     "name": "stdout",
     "output_type": "stream",
     "text": [
      "stress+vertex_resolution dodecahedron\n",
      "stress+vertex_resolution tree_2_6\n",
      "stress+vertex_resolution grid_12_24\n"
     ]
    },
    {
     "name": "stderr",
     "output_type": "stream",
     "text": [
      " 72%|███████▏  | 75/104 [01:08<00:26,  1.10it/s]"
     ]
    },
    {
     "name": "stdout",
     "output_type": "stream",
     "text": [
      "stress+vertex_resolution spx_teaser\n",
      "stress+vertex_resolution 494_bus\n"
     ]
    },
    {
     "name": "stderr",
     "output_type": "stream",
     "text": [
      " 74%|███████▍  | 77/104 [01:09<00:17,  1.59it/s]"
     ]
    },
    {
     "name": "stdout",
     "output_type": "stream",
     "text": [
      "stress+vertex_resolution grid1\n",
      "stress+vertex_resolution dwt_307\n"
     ]
    },
    {
     "name": "stderr",
     "output_type": "stream",
     "text": [
      " 76%|███████▌  | 79/104 [01:09<00:12,  2.08it/s]"
     ]
    },
    {
     "name": "stdout",
     "output_type": "stream",
     "text": [
      "stress+vertex_resolution dwt_1005\n"
     ]
    },
    {
     "name": "stderr",
     "output_type": "stream",
     "text": [
      " 78%|███████▊  | 81/104 [01:15<00:29,  1.27s/it]"
     ]
    },
    {
     "name": "stdout",
     "output_type": "stream",
     "text": [
      "stress+gabriel dodecahedron\n",
      "stress+gabriel tree_2_6\n",
      "stress+gabriel grid_12_24\n"
     ]
    },
    {
     "name": "stderr",
     "output_type": "stream",
     "text": [
      " 81%|████████  | 84/104 [01:15<00:13,  1.48it/s]"
     ]
    },
    {
     "name": "stdout",
     "output_type": "stream",
     "text": [
      "stress+gabriel spx_teaser\n",
      "stress+gabriel 494_bus\n",
      "stress+gabriel grid1\n"
     ]
    },
    {
     "name": "stderr",
     "output_type": "stream",
     "text": [
      " 83%|████████▎ | 86/104 [01:16<00:09,  1.89it/s]"
     ]
    },
    {
     "name": "stdout",
     "output_type": "stream",
     "text": [
      "stress+gabriel dwt_307\n"
     ]
    },
    {
     "name": "stderr",
     "output_type": "stream",
     "text": [
      " 84%|████████▎ | 87/104 [01:16<00:09,  1.83it/s]"
     ]
    },
    {
     "name": "stdout",
     "output_type": "stream",
     "text": [
      "stress+gabriel dwt_1005\n"
     ]
    },
    {
     "name": "stderr",
     "output_type": "stream",
     "text": [
      " 86%|████████▌ | 89/104 [01:23<00:21,  1.43s/it]"
     ]
    },
    {
     "name": "stdout",
     "output_type": "stream",
     "text": [
      "stress+ideal_edge_length+angular_resolution dodecahedron\n",
      "stress+ideal_edge_length+angular_resolution tree_2_6\n",
      "stress+ideal_edge_length+angular_resolution grid_12_24\n"
     ]
    },
    {
     "name": "stderr",
     "output_type": "stream",
     "text": [
      " 88%|████████▊ | 92/104 [01:23<00:08,  1.35it/s]"
     ]
    },
    {
     "name": "stdout",
     "output_type": "stream",
     "text": [
      "stress+ideal_edge_length+angular_resolution spx_teaser\n",
      "stress+ideal_edge_length+angular_resolution 494_bus\n"
     ]
    },
    {
     "name": "stderr",
     "output_type": "stream",
     "text": [
      " 90%|█████████ | 94/104 [01:24<00:05,  1.83it/s]"
     ]
    },
    {
     "name": "stdout",
     "output_type": "stream",
     "text": [
      "stress+ideal_edge_length+angular_resolution grid1\n",
      "stress+ideal_edge_length+angular_resolution dwt_307\n",
      "stress+ideal_edge_length+angular_resolution dwt_1005\n"
     ]
    },
    {
     "name": "stderr",
     "output_type": "stream",
     "text": [
      " 93%|█████████▎| 97/104 [01:31<00:08,  1.27s/it]"
     ]
    },
    {
     "name": "stdout",
     "output_type": "stream",
     "text": [
      "ideal_edge_length+neighborhood_preservation+vertex_resolution dodecahedron\n",
      "ideal_edge_length+neighborhood_preservation+vertex_resolution tree_2_6\n",
      "ideal_edge_length+neighborhood_preservation+vertex_resolution grid_12_24\n"
     ]
    },
    {
     "name": "stderr",
     "output_type": "stream",
     "text": [
      " 96%|█████████▌| 100/104 [01:31<00:02,  1.37it/s]"
     ]
    },
    {
     "name": "stdout",
     "output_type": "stream",
     "text": [
      "ideal_edge_length+neighborhood_preservation+vertex_resolution spx_teaser\n",
      "ideal_edge_length+neighborhood_preservation+vertex_resolution 494_bus\n"
     ]
    },
    {
     "name": "stderr",
     "output_type": "stream",
     "text": [
      " 98%|█████████▊| 102/104 [01:31<00:01,  1.81it/s]"
     ]
    },
    {
     "name": "stdout",
     "output_type": "stream",
     "text": [
      "ideal_edge_length+neighborhood_preservation+vertex_resolution grid1\n",
      "ideal_edge_length+neighborhood_preservation+vertex_resolution dwt_307\n",
      "ideal_edge_length+neighborhood_preservation+vertex_resolution dwt_1005\n"
     ]
    },
    {
     "name": "stderr",
     "output_type": "stream",
     "text": [
      "100%|██████████| 104/104 [01:38<00:00,  1.05it/s]\n"
     ]
    }
   ],
   "source": [
    "# %%time\n",
    "\n",
    "criteria_all = [\n",
    "    'stress',\n",
    "    # 'ideal_edge_length',\n",
    "    # 'neighborhood_preservation',\n",
    "    # 'crossings',\n",
    "    # 'crossing_angle_maximization',\n",
    "    # 'aspect_ratio',\n",
    "    # 'angular_resolution',\n",
    "    # 'vertex_resolution',\n",
    "    # 'gabriel',\n",
    "]\n",
    "\n",
    "quality_tables_scaled = {c:[\n",
    "    [utils.criterion_to_title(c)],\n",
    "    ['', *[g.replace('_', '-') for g in graphs]], \n",
    "    *[[ms[0]] for ms in methods]] \n",
    "    for c in criteria_all\n",
    "}\n",
    "\n",
    "for (i, (method_short, method)), (j,graph) in tqdm(list(itertools.product(enumerate(methods), enumerate(graphs)))):\n",
    "    \n",
    "    fn = f'./layouts/{graph}-{method}.pkl'\n",
    "    with open(fn, 'rb') as f:\n",
    "        result_dict = pkl.load(f)\n",
    "    G = result_dict.get('G')\n",
    "    pos_G = result_dict.get('pos_G')\n",
    "    gd = GD2(G)\n",
    "    pos = torch.tensor([pos_G[gd.i2k[i]] for i in range(len(G))])\n",
    "    \n",
    "    ## TODO give 'full advantange' to neato and sfdp\n",
    "    ## on stress and ideal_edge_length\n",
    "    if method in {'neato', 'sfdp'}:\n",
    "        qualities = gd.evaluate(pos, qualities=criteria_all, mode='best_scale')\n",
    "#         print(qualities['stress'], qualities['ideal_edge_length'])\n",
    "    else:\n",
    "        qualities = gd.evaluate(pos, qualities=criteria_all, mode='best_scale')\n",
    "    for c,q in qualities.items():\n",
    "#         quality_tables[c][i+2].append(float(f'{q:.2f}'))\n",
    "        quality_tables_scaled[c][i+2].append(q)"
   ]
  },
  {
   "cell_type": "code",
   "execution_count": 18,
   "metadata": {},
   "outputs": [
    {
     "name": "stdout",
     "output_type": "stream",
     "text": [
      "['Stress']\n",
      "['', 'dodecahedron', 'tree-2-6', 'grid-12-24', 'spx-teaser', '494-bus', 'grid1', 'dwt-307', 'dwt-1005']\n",
      "['neato', 0.08134147731360619, 0.07783726549400836, 0.012811696842822708, 0.02713600532007563, 0.07607956020075818, 0.06176972744186493, 0.0832831469335954, 0.021279316333066168]\n",
      "['sfdp', 0.0797211560875147, 0.13308516972864373, 0.02447798141388848, 0.0516847548405388, 0.0989621556655844, 0.07086976395761918, 0.08074983278954283, 0.029469892231659165]\n",
      "['GD2 (ST)', 0.07949503833523776, 0.07781891674515576, 0.012828487718222932, 0.02681389206034175, 0.07124048947650795, 0.0617665569875385, 0.08246111425166115, 0.02221180758755616]\n",
      "['GD2 (NP)', 0.15334976037218026, 0.12238675883668801, 0.06237162031952927, 0.18394656823919947, 0.1540913753674537, 0.1336825286734272, 0.15939180793553287, 0.1673372272208446]\n",
      "['GD2 (ST+IL)', 0.08563848297380958, 0.08027643613707941, 0.013988727752287254, 0.03323974962472137, 0.07550453872190732, 0.06817887455680605, 0.0927623519047073, 0.02771288436154522]\n",
      "['GD2 (ST+NP)', 0.1533498377976148, 0.10040980483305859, 0.013240670297507095, 0.032740920275441066, 0.09736011876651864, 0.07654784211221256, 0.10837729912260359, 0.03460490112414431]\n",
      "['GD2 (ST+CR)', 0.1845711046394173, 0.07787881341036286, 0.01283492928032516, 0.02788360636819137, 0.07502790494108642, 0.07229319528271531, 0.08975267126145231, 0.037975767132443335]\n",
      "['GD2 (ST+CAM)', 0.09877980031151154, 0.07781849735698561, 0.014867522746167771, 0.029486361935808093, 0.07497742106013197, 0.06322031538894365, 0.09366495343126442, 0.02946400429660626]\n",
      "['GD2 (ST+AR)', 0.07950048720563434, 0.08088656779523283, 0.05507426010053584, 0.0268307943382289, 0.07512639136691207, 0.06709768913495733, 0.08383427814833729, 0.023163595213437305]\n",
      "['GD2 (ST+VR)', 0.08307951359039407, 0.08014268299975742, 0.012925224086006808, 0.03148920078102128, 0.07261151088147111, 0.06280776168169505, 0.08774253242046197, 0.02313412757619581]\n",
      "['GD2 (ST+GB)', 0.08043732249569321, 0.07782708195378901, 0.01282876542911383, 0.027070130945781555, 0.07123600397061461, 0.06182097728139851, 0.08260492595948563, 0.02220370573534646]\n",
      "['GD2 (ST+IL+ANR)', 0.08096575309042285, 0.09092161551380747, 0.014053509639203031, 0.03244795508095101, 0.076769595414658, 0.0692746424770877, 0.08973055107426353, 0.0249326919110522]\n",
      "['GD2 (IL+NP+VR)', 0.08288966694141613, 0.10738750132397112, 0.059231965794970524, 0.1332968872381557, 0.11012359530282528, 0.06600432988675553, 0.0954548217338128, 0.20492888841938797]\n"
     ]
    }
   ],
   "source": [
    "mat1 = list()\n",
    "for val in quality_tables['stress'][2:]:\n",
    "    mat1.append(val[1:])\n",
    "\n",
    "mat1 = np.array(mat1)\n",
    "mat1\n",
    "\n",
    "mat2 = list()\n",
    "for val in quality_tables_scaled['stress'][2:]:\n",
    "    mat2.append(val[1:])\n",
    "mat2 = np.array(mat2)\n",
    "for row in quality_tables_scaled['stress']:\n",
    "    print(row)"
   ]
  },
  {
   "cell_type": "code",
   "execution_count": 26,
   "metadata": {},
   "outputs": [
    {
     "name": "stdout",
     "output_type": "stream",
     "text": [
      "dodecahedron\n",
      "Ranking in paper [ 5.  3.  1. 12. 10. 11. 13.  9.  2.  7.  4.  8.  6.]\n",
      "Ranking by SNS   [ 6.  3.  1. 11.  9. 12. 13. 10.  2.  8.  4.  5.  7.]\n",
      "-----------------\n",
      "tree-2-6\n",
      "Ranking in paper [ 4. 12.  2. 13.  9. 10.  5.  1.  7.  6.  3.  8. 11.]\n",
      "Ranking by SNS   [ 4. 13.  2. 12.  7. 10.  5.  1.  8.  6.  3.  9. 11.]\n",
      "-----------------\n",
      "grid-12-24\n",
      "Ranking in paper [ 1.  9.  2. 13. 10.  6.  4.  7. 11.  5.  3.  8. 12.]\n",
      "Ranking by SNS   [ 1. 10.  2. 13.  7.  6.  4.  9. 11.  5.  3.  8. 12.]\n",
      "-----------------\n",
      "spx-teaser\n",
      "Ranking in paper [ 4. 10.  1. 13. 11.  9.  5.  6.  2.  7.  3.  8. 12.]\n",
      "Ranking by SNS   [ 4. 11.  1. 13. 10.  9.  5.  6.  2.  7.  3.  8. 12.]\n",
      "-----------------\n",
      "494-bus\n",
      "Ranking in paper [ 6. 10.  2. 13.  9. 12.  7.  4.  5.  3.  1.  8. 11.]\n",
      "Ranking by SNS   [ 8. 11.  2. 13.  7. 10.  5.  4.  6.  3.  1.  9. 12.]\n",
      "-----------------\n",
      "grid1\n",
      "Ranking in paper [ 2.  8.  1. 13. 12. 10.  9.  5.  6.  4.  3. 11.  7.]\n",
      "Ranking by SNS   [ 2. 10.  1. 13.  8. 12. 11.  5.  7.  4.  3.  9.  6.]\n",
      "-----------------\n",
      "dwt-307\n",
      "Ranking in paper [ 4.  1.  2. 13. 11. 12.  7.  8.  5.  6.  3.  9. 10.]\n",
      "Ranking by SNS   [ 4.  1.  2. 13.  9. 12.  8. 10.  5.  6.  3.  7. 11.]\n",
      "-----------------\n",
      "dwt-1005\n",
      "Ranking in paper [ 1.  7.  3. 13.  9. 11. 10.  8.  5.  4.  2.  6. 12.]\n",
      "Ranking by SNS   [ 1.  9.  3. 12.  7. 10. 11.  8.  5.  4.  2.  6. 13.]\n",
      "-----------------\n"
     ]
    }
   ],
   "source": [
    "from scipy.stats import rankdata\n",
    "\n",
    "data = dict()\n",
    "\n",
    "data['algorithms'] = [d[0] for d in quality_tables['stress'][2:]]\n",
    "data['graphs'] = list()\n",
    "\n",
    "for i,gname in zip(range(mat1.shape[1]), quality_tables['stress'][1][1:]):\n",
    "    data['graphs'].append({\n",
    "        \"name\": gname, \n",
    "        \"ns-rank\": [int(d) for d in rankdata(mat1[:,i])],\n",
    "        \"sns-rank\": [int(d) for d in rankdata(mat2[:,i])]\n",
    "    })\n",
    "    print(gname)\n",
    "    print(\"Ranking in paper\", rankdata(mat1[:,i]))\n",
    "    print(\"Ranking by SNS  \", rankdata(mat2[:,i]))\n",
    "    print(\"-----------------\")"
   ]
  },
  {
   "cell_type": "code",
   "execution_count": 27,
   "metadata": {},
   "outputs": [],
   "source": [
    "import json \n",
    "with open(\"rerun.json\", 'w') as fdata:\n",
    "    json.dump(data,fdata,indent=4)"
   ]
  },
  {
   "cell_type": "markdown",
   "metadata": {},
   "source": [
    "## Generate LaTex Table in paper"
   ]
  },
  {
   "cell_type": "code",
   "execution_count": 74,
   "metadata": {},
   "outputs": [],
   "source": [
    "for c,t in quality_tables.items():\n",
    "    t[1][0] = 'methods \\\\textbackslash~graphs'\n",
    "    \n",
    "    \n",
    "    values = np.array([r[1:] for r in t[2:]])\n",
    "    best_indices = values.argmin(axis=0)\n",
    "    best_values = values.min(axis=0)\n",
    "    for j in range(len(graphs)):\n",
    "        best_value = t[best_indices[j]+2][j+1]\n",
    "        for i in range(len(methods)):\n",
    "            value = t[i+2][j+1]\n",
    "            if c == 'crossings':\n",
    "                if abs(value-best_value) < 1:# \\\n",
    "                    t[i+2][j+1] = f'**{value:d}**'\n",
    "                    t[i+2][j+1] = f'\\\\textbf{{{value:d}}}'\n",
    "                else:\n",
    "                    t[i+2][j+1] = f'{value:d}'\n",
    "                    \n",
    "            else:\n",
    "                if abs(value-best_value) < 0.001:# \\\n",
    "#                     t[i+2][j+1] = f'**{value:.3f}**'\n",
    "                    t[i+2][j+1] = f'\\\\textbf{{{value:.3f}}}'\n",
    "                else:\n",
    "                    t[i+2][j+1] = f'{value:.3f}'\n"
   ]
  },
  {
   "cell_type": "code",
   "execution_count": 75,
   "metadata": {},
   "outputs": [
    {
     "name": "stdout",
     "output_type": "stream",
     "text": [
      "%% ==== stress ====\n",
      "\\begin{table}[h]\n",
      "\\begin{tabular}{l|rrrrrrrr}\n",
      "\\hline\n",
      " methods \\textbackslash~graphs & dodecahedron   & tree-2-6       & grid-12-24     & spx-teaser     & 494-bus        & grid1          & dwt-307        & dwt-1005       \\\\\n",
      "\\hline\n",
      " neato                         & 0.081          & \\textbf{0.078} & \\textbf{0.013} & \\textbf{0.027} & 0.076          & \\textbf{0.062} & 0.083          & \\textbf{0.021} \\\\\n",
      " sfdp                          & \\textbf{0.080} & 0.133          & 0.024          & 0.052          & 0.099          & 0.071          & \\textbf{0.081} & 0.029          \\\\\n",
      " GD2 (ST)                      & \\textbf{0.079} & \\textbf{0.078} & \\textbf{0.013} & \\textbf{0.027} & \\textbf{0.071} & \\textbf{0.062} & 0.082          & \\textbf{0.022} \\\\\n",
      " GD2 (NP)                      & 0.153          & 0.122          & 0.062          & 0.184          & 0.154          & 0.134          & 0.159          & 0.167          \\\\\n",
      " GD2 (ST+IL)                   & 0.086          & 0.080          & 0.014          & 0.033          & 0.076          & 0.068          & 0.093          & 0.028          \\\\\n",
      " GD2 (ST+NP)                   & 0.153          & 0.100          & \\textbf{0.013} & 0.033          & 0.097          & 0.077          & 0.108          & 0.035          \\\\\n",
      " GD2 (ST+CR)                   & 0.185          & \\textbf{0.078} & \\textbf{0.013} & 0.028          & 0.075          & 0.072          & 0.090          & 0.038          \\\\\n",
      " GD2 (ST+CAM)                  & 0.099          & \\textbf{0.078} & 0.015          & 0.029          & 0.075          & 0.063          & 0.094          & 0.029          \\\\\n",
      " GD2 (ST+AR)                   & \\textbf{0.080} & 0.081          & 0.055          & \\textbf{0.027} & 0.075          & 0.067          & 0.084          & 0.023          \\\\\n",
      " GD2 (ST+VR)                   & 0.083          & 0.080          & \\textbf{0.013} & 0.031          & 0.073          & 0.063          & 0.088          & 0.023          \\\\\n",
      " GD2 (ST+GB)                   & \\textbf{0.080} & \\textbf{0.078} & \\textbf{0.013} & \\textbf{0.027} & \\textbf{0.071} & \\textbf{0.062} & 0.083          & \\textbf{0.022} \\\\\n",
      " GD2 (ST+IL+ANR)               & 0.081          & 0.091          & 0.014          & 0.032          & 0.077          & 0.069          & 0.090          & 0.025          \\\\\n",
      " GD2 (IL+NP+VR)                & 0.083          & 0.107          & 0.059          & 0.133          & 0.110          & 0.066          & 0.095          & 0.205          \\\\\n",
      "\\hline\n",
      "\\end{tabular}\n",
      "\\caption{Quality Measures of Stress}\n",
      "\\label{tab:quality-table-stress}\n",
      "\\end{table}\n",
      "\n",
      "\n",
      "\n"
     ]
    }
   ],
   "source": [
    "from IPython.display import HTML, display\n",
    "import tabulate\n",
    "\n",
    "for c,t in quality_tables.items():\n",
    "#     display(HTML(tabulate.tabulate(t, tablefmt='html')))\n",
    "#     display(HTML(tabulate.tabulate(t, tablefmt='latex_raw')))\n",
    "    print(f'%% ==== {c} ====')\n",
    "    print('\\\\begin{table}[h]')\n",
    "    latex_table = tabulate.tabulate(t[1:], tablefmt='latex_raw').replace('lllllllll', 'l|rrrrrrrr')\n",
    "    latex_table_list = latex_table.split('\\n')\n",
    "    latex_table_list.insert(3, '\\\\hline')\n",
    "    latex_table = '\\n'.join(latex_table_list)\n",
    "    print(latex_table)\n",
    "    print(f'\\\\caption{{Quality Measures of {utils.criterion_to_title(c)}}}')\n",
    "    print(f'\\\\label{{tab:quality-table-{c}}}')\n",
    "    print('\\\\end{table}')\n",
    "    \n",
    "    print(f'\\n\\n')\n"
   ]
  }
 ],
 "metadata": {
  "kernelspec": {
   "display_name": "l2g",
   "language": "python",
   "name": "python3"
  },
  "language_info": {
   "codemirror_mode": {
    "name": "ipython",
    "version": 3
   },
   "file_extension": ".py",
   "mimetype": "text/x-python",
   "name": "python",
   "nbconvert_exporter": "python",
   "pygments_lexer": "ipython3",
   "version": "3.12.5"
  }
 },
 "nbformat": 4,
 "nbformat_minor": 4
}
