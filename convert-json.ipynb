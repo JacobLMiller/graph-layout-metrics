{
 "cells": [
  {
   "cell_type": "code",
   "execution_count": 1,
   "metadata": {},
   "outputs": [],
   "source": [
    "import json \n",
    "import networkx as nx \n",
    "from modules.graph_io import json_to_graph"
   ]
  },
  {
   "cell_type": "code",
   "execution_count": null,
   "metadata": {},
   "outputs": [],
   "source": [
    "import os \n",
    "graphs = os.listdir(\"json_graphs\")\n",
    "for gname in graphs: \n",
    "    G = json_to_graph(f\"json_graphs/{gname}\")\n",
    "    nx.write_graphml(G, f\"graphs/{gname.split('.')[0]}.graphml\")"
   ]
  }
 ],
 "metadata": {
  "kernelspec": {
   "display_name": "stress-scale",
   "language": "python",
   "name": "python3"
  },
  "language_info": {
   "codemirror_mode": {
    "name": "ipython",
    "version": 3
   },
   "file_extension": ".py",
   "mimetype": "text/x-python",
   "name": "python",
   "nbconvert_exporter": "python",
   "pygments_lexer": "ipython3",
   "version": "3.9.18"
  }
 },
 "nbformat": 4,
 "nbformat_minor": 2
}
