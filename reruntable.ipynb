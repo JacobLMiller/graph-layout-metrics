{
 "cells": [
  {
   "cell_type": "code",
   "execution_count": 1,
   "metadata": {},
   "outputs": [],
   "source": [
    "import json \n",
    "import pylab as plt"
   ]
  },
  {
   "cell_type": "code",
   "execution_count": 2,
   "metadata": {},
   "outputs": [],
   "source": [
    "with open(\"rerun.json\", 'r') as fdata:\n",
    "    data = json.load(fdata)"
   ]
  },
  {
   "cell_type": "code",
   "execution_count": 10,
   "metadata": {},
   "outputs": [
    {
     "name": "stdout",
     "output_type": "stream",
     "text": [
      " & neato & sfdp & GD2 (ST) & GD2 (NP) & GD2 (ST+IL) & GD2 (ST+NP) & GD2 (ST+CR) & GD2 (ST+CAM) & GD2 (ST+AR) & GD2 (ST+VR) & GD2 (ST+GB) & GD2 (ST+IL+ANR) & GD2 (IL+NP+VR)\\\\\\hline\n",
      "dodecahedron & 6 & 3 & 1 & 11 & 9 & 12 & 13 & 10 & 2 & 8 & 4 & 5 & 7\\\\\\hline\n",
      "tree-2-6 & 4 & 13 & 2 & 12 & 7 & 10 & 5 & 1 & 8 & 6 & 3 & 9 & 11\\\\\\hline\n",
      "grid-12-24 & 1 & 10 & 2 & 13 & 7 & 6 & 4 & 9 & 11 & 5 & 3 & 8 & 12\\\\\\hline\n",
      "spx-teaser & 4 & 11 & 1 & 13 & 10 & 9 & 5 & 6 & 2 & 7 & 3 & 8 & 12\\\\\\hline\n",
      "494-bus & 8 & 11 & 2 & 13 & 7 & 10 & 5 & 4 & 6 & 3 & 1 & 9 & 12\\\\\\hline\n",
      "grid1 & 2 & 10 & 1 & 13 & 8 & 12 & 11 & 5 & 7 & 4 & 3 & 9 & 6\\\\\\hline\n",
      "dwt-307 & 4 & 1 & 2 & 13 & 9 & 12 & 8 & 10 & 5 & 6 & 3 & 7 & 11\\\\\\hline\n",
      "dwt-1005 & 1 & 9 & 3 & 12 & 7 & 10 & 11 & 8 & 5 & 4 & 2 & 6 & 13\\\\\\hline\n",
      "\n"
     ]
    }
   ],
   "source": [
    "ranking = 'sns-rank'\n",
    "s = \" & \" + \" & \".join(data['algorithms']) + \"\\\\\\\\\\\\hline\\n\"\n",
    "for graph in data['graphs']:\n",
    "    news = graph['name'] + ' & '\n",
    "    news += \" & \".join(str(d) for d in graph[ranking])\n",
    "    news += '\\\\\\\\\\\\hline\\n'\n",
    "    s += news\n",
    "\n",
    "print(s)"
   ]
  },
  {
   "cell_type": "code",
   "execution_count": 21,
   "metadata": {},
   "outputs": [],
   "source": [
    "import matplotlib.colors as mcolors\n",
    "\n",
    "def get_blues_hex(value):\n",
    "    value = 1 - value\n",
    "    value = 0 + (value - 0) * (0.6 - 0) / (1 - 0)    \n",
    "    cmap = plt.cm.Blues\n",
    "    rgba = cmap(value)\n",
    "    hex_color = mcolors.to_hex(rgba)\n",
    "    return hex_color.replace(\"#\",\"\")"
   ]
  },
  {
   "cell_type": "code",
   "execution_count": null,
   "metadata": {},
   "outputs": [
    {
     "name": "stdout",
     "output_type": "stream",
     "text": [
      " & \\rotatebox{70}{\\small neato} & \\rotatebox{70}{\\small sfdp} & \\rotatebox{70}{\\small GD2 (ST)} & \\rotatebox{70}{\\small GD2 (NP)} & \\rotatebox{70}{\\small GD2 (ST+IL)} & \\rotatebox{70}{\\small GD2 (ST+NP)} & \\rotatebox{70}{\\small GD2 (ST+CR)} & \\rotatebox{70}{\\small GD2 (ST+CAM)} & \\rotatebox{70}{\\small GD2 (ST+AR)} & \\rotatebox{70}{\\small GD2 (ST+VR)} & \\rotatebox{70}{\\small GD2 (ST+GB)} & \\rotatebox{70}{\\small GD2 (ST+IL+ANR)} & \\rotatebox{70}{\\small GD2 (IL+NP+VR)}\\\\\\hline\n",
      "\n"
     ]
    }
   ],
   "source": [
    "ranking = 'sns-rank'\n",
    "s = \" & \" + \" & \".join(f\"\\\\rotatebox{{70}}{{\\\\tiny {s}}}\" for s in data['algorithms']) + \"\\\\\\\\\\\\hline\\n\"\n",
    "# for graph in data['graphs']:\n",
    "#     news = graph['name'] + ' & '\n",
    "#     news += \" & \".join(f\"\\\\cellcolor[HTML]{{{get_blues_hex(d / len(graph[ranking]))}}} {d}\" for d in graph[ranking])\n",
    "#     news += '\\\\\\\\\\\\hline\\n'\n",
    "#     s += news\n",
    "\n",
    "print(s)"
   ]
  }
 ],
 "metadata": {
  "kernelspec": {
   "display_name": "gt",
   "language": "python",
   "name": "python3"
  },
  "language_info": {
   "codemirror_mode": {
    "name": "ipython",
    "version": 3
   },
   "file_extension": ".py",
   "mimetype": "text/x-python",
   "name": "python",
   "nbconvert_exporter": "python",
   "pygments_lexer": "ipython3",
   "version": "3.12.5"
  }
 },
 "nbformat": 4,
 "nbformat_minor": 2
}
