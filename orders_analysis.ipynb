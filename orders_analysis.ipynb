{
  "cells": [
    {
      "cell_type": "code",
      "execution_count": 9,
      "metadata": {
        "id": "LZwYIUoeZw9p"
      },
      "outputs": [],
      "source": [
        "import pandas as pd"
      ]
    },
    {
      "cell_type": "code",
      "execution_count": 10,
      "metadata": {
        "id": "jjArEm_-aBTs"
      },
      "outputs": [],
      "source": [
        "# must replace 'edit#gid=...' at end of url with 'export?format=csv&gid=...'\n",
        "# for rome graphs:\n",
        "url = \"https://docs.google.com/spreadsheets/d/1CJRkiQnxglBUBeoL-Q66ON3U5jvGO5TqK2xrb6_OsCA/export?format=csv&gid=251226085\"\n",
        "\n",
        "# for SS:\n",
        "# url = \"https://docs.google.com/spreadsheets/d/1mCxaZPYgAgQe_ktj68BAxCsRbUM1UHQxbu98_H9ABuo/export?format=csv&gid=2072276962\""
      ]
    },
    {
      "cell_type": "code",
      "execution_count": 11,
      "metadata": {
        "id": "j3Hvvc0lnfe7"
      },
      "outputs": [],
      "source": [
        "odf = pd.read_csv(url)\n",
        "odf.columns = odf.columns[1:].insert(0, 'gname')\n",
        "rdf = pd.DataFrame(columns=odf.columns[1:])"
      ]
    },
    {
      "cell_type": "code",
      "execution_count": 12,
      "metadata": {
        "id": "dj_hcyaAw-4r"
      },
      "outputs": [],
      "source": [
        "def get_percent_correct(exp_ord):\n",
        "  tdf = pd.DataFrame()\n",
        "  for col in odf.columns[1:]:\n",
        "    tdf[col] = odf[col].map(lambda x: str([k for k in eval(x) if k in exp_ord]))\n",
        "  results = {}\n",
        "  for col in tdf.columns:\n",
        "    cts = tdf.groupby(col).count()\n",
        "    if str(exp_ord) in cts.index:\n",
        "      ct = cts.loc[str(exp_ord)] / tdf.count()\n",
        "      results[col] = ct['kruskal' if col != 'kruskal' else 'minopt']\n",
        "    else:\n",
        "      results[col] = 0\n",
        "  rdf.loc[f'% {exp_ord}:'] = results"
      ]
    },
    {
      "cell_type": "code",
      "execution_count": 13,
      "metadata": {
        "colab": {
          "base_uri": "https://localhost:8080/"
        },
        "id": "bg0_7nxwbMk2",
        "outputId": "f695508e-143f-46ee-90c6-3a084f5fd7c0"
      },
      "outputs": [
        {
          "name": "stderr",
          "output_type": "stream",
          "text": [
            "100%|██████████| 150/150 [00:21<00:00,  6.95it/s]\n"
          ]
        }
      ],
      "source": [
        "from itertools import permutations\n",
        "import tqdm\n",
        "embs = eval(odf.loc[1, 'minopt'])\n",
        "perms = list(permutations(embs, 2)) + list(permutations(embs, 3))\n",
        "for p in tqdm.tqdm(perms):\n",
        "  get_percent_correct(str(list(p)))"
      ]
    },
    {
      "cell_type": "code",
      "execution_count": 14,
      "metadata": {
        "id": "0zy8eR1UqFAZ"
      },
      "outputs": [],
      "source": [
        "rdf.to_csv(\"results/orders_analysis.csv\")"
      ]
    }
  ],
  "metadata": {
    "colab": {
      "provenance": []
    },
    "kernelspec": {
      "display_name": "Python 3",
      "name": "python3"
    },
    "language_info": {
      "codemirror_mode": {
        "name": "ipython",
        "version": 3
      },
      "file_extension": ".py",
      "mimetype": "text/x-python",
      "name": "python",
      "nbconvert_exporter": "python",
      "pygments_lexer": "ipython3",
      "version": "3.10.11"
    }
  },
  "nbformat": 4,
  "nbformat_minor": 0
}
