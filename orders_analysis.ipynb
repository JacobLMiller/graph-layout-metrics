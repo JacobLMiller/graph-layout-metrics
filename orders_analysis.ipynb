{
  "cells": [
    {
      "cell_type": "code",
      "execution_count": 1,
      "metadata": {},
      "outputs": [
        {
          "name": "stdout",
          "output_type": "stream",
          "text": [
            "Requirement already satisfied: pandas in c:\\users\\hamle\\documents\\sp24\\(gd)^2\\repo\\graph-layout-metrics\\.venv\\lib\\site-packages (2.2.2)Note: you may need to restart the kernel to use updated packages.\n",
            "\n",
            "Requirement already satisfied: numpy>=1.22.4 in c:\\users\\hamle\\documents\\sp24\\(gd)^2\\repo\\graph-layout-metrics\\.venv\\lib\\site-packages (from pandas) (1.26.3)\n",
            "Requirement already satisfied: python-dateutil>=2.8.2 in c:\\users\\hamle\\documents\\sp24\\(gd)^2\\repo\\graph-layout-metrics\\.venv\\lib\\site-packages (from pandas) (2.8.2)\n",
            "Requirement already satisfied: pytz>=2020.1 in c:\\users\\hamle\\documents\\sp24\\(gd)^2\\repo\\graph-layout-metrics\\.venv\\lib\\site-packages (from pandas) (2024.1)\n",
            "Requirement already satisfied: tzdata>=2022.7 in c:\\users\\hamle\\documents\\sp24\\(gd)^2\\repo\\graph-layout-metrics\\.venv\\lib\\site-packages (from pandas) (2024.1)\n",
            "Requirement already satisfied: six>=1.5 in c:\\users\\hamle\\documents\\sp24\\(gd)^2\\repo\\graph-layout-metrics\\.venv\\lib\\site-packages (from python-dateutil>=2.8.2->pandas) (1.16.0)\n"
          ]
        },
        {
          "name": "stderr",
          "output_type": "stream",
          "text": [
            "\n",
            "[notice] A new release of pip is available: 23.3.2 -> 24.0\n",
            "[notice] To update, run: python.exe -m pip install --upgrade pip\n"
          ]
        }
      ],
      "source": [
        "%pip install pandas"
      ]
    },
    {
      "cell_type": "code",
      "execution_count": 2,
      "metadata": {
        "id": "LZwYIUoeZw9p"
      },
      "outputs": [],
      "source": [
        "import pandas as pd"
      ]
    },
    {
      "cell_type": "code",
      "execution_count": 3,
      "metadata": {
        "id": "jjArEm_-aBTs"
      },
      "outputs": [],
      "source": [
        "# must replace 'edit' at end of url with 'export?format=csv'\n",
        "url = \"https://docs.google.com/spreadsheets/d/1mCxaZPYgAgQe_ktj68BAxCsRbUM1UHQxbu98_H9ABuo/export?format=csv\""
      ]
    },
    {
      "cell_type": "code",
      "execution_count": 4,
      "metadata": {
        "id": "j3Hvvc0lnfe7"
      },
      "outputs": [],
      "source": [
        "odf = pd.read_csv(url)\n",
        "odf.columns = odf.columns[1:].insert(0, 'gname')\n",
        "odf = odf.drop(0)\n",
        "rdf = pd.DataFrame(columns=odf.columns[1:])"
      ]
    },
    {
      "cell_type": "code",
      "execution_count": 5,
      "metadata": {
        "id": "dj_hcyaAw-4r"
      },
      "outputs": [],
      "source": [
        "def get_percent_correct(exp_ord):\n",
        "  tdf = pd.DataFrame()\n",
        "  for col in odf.columns[1:]:\n",
        "    tdf[col] = odf[col].map(lambda x: str([k for k in eval(x) if k in exp_ord]))\n",
        "  results = {}\n",
        "  for col in tdf.columns:\n",
        "    cts = tdf.groupby(col).count()\n",
        "    if str(exp_ord) in cts.index:\n",
        "      ct = cts.loc[str(exp_ord)] / tdf.count()\n",
        "      results[col] = ct['kruskal' if col != 'kruskal' else 'minopt']\n",
        "    else:\n",
        "      results[col] = 0\n",
        "  rdf.loc[f'% {exp_ord}:'] = results"
      ]
    },
    {
      "cell_type": "code",
      "execution_count": 6,
      "metadata": {
        "colab": {
          "base_uri": "https://localhost:8080/"
        },
        "id": "bg0_7nxwbMk2",
        "outputId": "f695508e-143f-46ee-90c6-3a084f5fd7c0"
      },
      "outputs": [
        {
          "name": "stderr",
          "output_type": "stream",
          "text": [
            "100%|██████████| 150/150 [00:20<00:00,  7.39it/s]\n"
          ]
        }
      ],
      "source": [
        "from itertools import permutations\n",
        "import tqdm\n",
        "embs = eval(odf.loc[1, 'minopt'])\n",
        "perms = list(permutations(embs, 2)) + list(permutations(embs, 3))\n",
        "for p in tqdm.tqdm(perms):\n",
        "  get_percent_correct(str(list(p)))"
      ]
    },
    {
      "cell_type": "code",
      "execution_count": 7,
      "metadata": {
        "id": "0zy8eR1UqFAZ"
      },
      "outputs": [],
      "source": [
        "rdf.to_csv(\"orders_analysis.csv\")"
      ]
    }
  ],
  "metadata": {
    "colab": {
      "provenance": []
    },
    "kernelspec": {
      "display_name": "Python 3",
      "name": "python3"
    },
    "language_info": {
      "codemirror_mode": {
        "name": "ipython",
        "version": 3
      },
      "file_extension": ".py",
      "mimetype": "text/x-python",
      "name": "python",
      "nbconvert_exporter": "python",
      "pygments_lexer": "ipython3",
      "version": "3.10.11"
    }
  },
  "nbformat": 4,
  "nbformat_minor": 0
}
